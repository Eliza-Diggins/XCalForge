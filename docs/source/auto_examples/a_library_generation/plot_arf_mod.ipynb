{
 "cells": [
  {
   "cell_type": "markdown",
   "metadata": {},
   "source": [
    "\n# ARF Modification Library Generation (Gaussian)\n\nThis example demonstrates how to generate a calibration modification library using\n**XCalForge's** ARF modification framework with Gaussian perturbations.\n"
   ]
  },
  {
   "cell_type": "markdown",
   "metadata": {},
   "source": [
    "The ARF (Auxiliary Response File) characterizes an X-ray telescope's effective area curve,\nwhich determines how many photons are detected at each energy. Systematic uncertainties\nin the ARF directly affect measured spectra and inferred astrophysical parameters.\n\n**XCalForge** supports injecting controlled distortions into ARFs to quantify the\nimpact of such uncertainties on temperature recovery.\n\n## Gaussian Modification Scheme\n\nThe modified ARF is defined as:\n\n\\begin{align}A'(E) = A(E) \\times \\left( 1 + A_0 \\, e^{- \\left( \\frac{E - \\mu}{\\sigma} \\right)^2} \\right)\\end{align}\n\nWhere:\n\n- $A(E)$ is the baseline effective area at energy $E$,\n- $A_0$ is the amplitude of the modification (unitless, fractional change),\n- $\\mu$ is the center energy of the Gaussian (keV),\n- $\\sigma$ is the width (keV) controlling the spread of the modification.\n\nThis scheme simulates local, energy-dependent distortions—representing, for example,\nuncertainties from coating thickness, contamination layers, or detector edges.\n\nThe resulting library provides a grid of synthetic spectra exploring how these calibration perturbations\npropagate into biased temperature measurements.\n\n.. important::\n\n  The first half of this example, the section covering generating the library\n  is presented in a somewhat schematic manner as the actual code necessary will\n  depend somewhat on specific paths and behaviors on your system.\n\n## Setup\n\nThe first step in the setup for this workflow is to ensure that any necessary environmental\nelements are configured. By default, XCalForge requires XSPEC (via PyXSPEC) and also\nrequires MPI for parallelization. Details on how to configure these for different \nsystems can be found at `install`. Before running the script, it\nis then necessary to have self-consistently loaded the environment. \n\nOn a system like the University of Utah's CHPC, this might look like\n\n```bash\n$ ml heasoft/6.31.1 openmpi/4.1.6\n$ source /path/to/venv/bin/activate\n```\nOne the environment is configured, we're ready to begin the actual code.\n\n### Library Setup\n\nTo begin, we'll need the relevant modification library class (:class:`~library.base.ModificationLibrary`)\nfor the particular perturbations we wish to consider. In most cases, these need to be\nwritten by the user for their particular use case; however, gaussian arf modification is\nbuilt in via the :class:`~library.arf_mod.GaussianARFLibrary`. \n\nWe'll begin by importing this class and performing some configuration for XSPEC. This includes\nsetting the test statistic, the chatter level, and some other things via :func:`utilities.env.configure_xspec`.\n\n```python\n# Import necessary modules.\nimport numpy as np\nfrom xforge.library import GaussianARFLibrary\nfrom xforge.utilities import configure_xspec, get_config, get_mpi, get_xspec, clear_xspec\nfrom pathlib import Path\nimport os\n\n# Fetch XSPEC and configure it.\nxspec = get_xspec()\nconfigure_xspec()\n```\n## Creating the Library\n\nTo create the library, we'll need to know the desired path of the library\nand the path to the default ARF and RMF files being used in the simulation.\n\n```python\nlibrary_dir = \"path/to/library\"\nbase_arf,base_rmf = \"path/to/arf\", \"path/to/rmf\"\n```\nIn addition to the relevant directories, we also need to specify the \ncorrect set of parameters from which to create the discretized parameter space.\nFor this example, we'll consider a very minimal library:\n\n```python\nparameters = {\n              'mu': np.linspace(1,10,15),\n              'sigma': [1],\n              'A': [0.08, -0.08]\n              }\n```\nNow that the setup has been performed, we can build the library:\n\n```python\ncomm = get_mpi()\nrank = comm.Get_rank()\nif rank == 0:\n    _ = GaussianARFLibrary.create_library(\n        directory=library_dir,\n        parameters=parameters,\n        base_arf=base_arf,\n        base_rmf=base_rmf,\n        overwrite=True,\n    )\n\n# Ensure RANK 0 completes before continuing.\ncomm.Barrier()\n```\n## Generating the Library\n\nNow for the big part: generating the library data. This is done by passing\na list of temperatures to :meth:`~library.base.ModificationLibrary.generate_library`.\n\n```python\ntemperatures = np.linspace(0.5,15,8)\nlib.generate_library()\n```\nAn instance of the library generated from this proceedure is stored in\nthe ``/docs/galleries/examples/bin/gauss_arf_lib`` directory.\n\n%%\nInspecting the Data\n-------------------\n\nOnce the library has been generated, we can begin inspecting the data!\n\n"
   ]
  },
  {
   "cell_type": "code",
   "execution_count": null,
   "metadata": {
    "collapsed": false
   },
   "outputs": [],
   "source": [
    "import h5py\n",
    "from pathlib import Path\n",
    "import numpy as np\n",
    "\n",
    "# Get the path to the data relative to this file.\n",
    "data_path = Path(\"../bin/gauss_arf_lib/library.h5\")\n",
    "print(data_path)\n",
    "\n",
    "with h5py.File(data_path, \"r\") as fio:\n",
    "    # See what data is available\n",
    "    print(fio.keys())\n",
    "\n",
    "    # The `LIBRARY` contains the data.\n",
    "    # The `PARAMS` contains the parameters.\n",
    "\n",
    "    library, temperatures = np.asarray(fio[\"LIBRARY/results\"]), np.asarray(\n",
    "        fio[\"LIBRARY/temps\"]\n",
    "    )\n",
    "    mus = np.asarray(fio[\"PARAMS/mu\"])"
   ]
  },
  {
   "cell_type": "markdown",
   "metadata": {},
   "source": [
    "the ``library`` will be a ``(15,1,2,8,3)`` array of data for \nus to inspect. The final axis contains the lower, mean, and upper bounds on\nthe parameter estimate.\n\nWe can use this to make a plot of the data.\n\n"
   ]
  },
  {
   "cell_type": "code",
   "execution_count": null,
   "metadata": {
    "collapsed": false
   },
   "outputs": [],
   "source": [
    "import matplotlib.pyplot as plt\n",
    "\n",
    "\n",
    "fig, ax = plt.subplots(figsize=(8, 6))\n",
    "cmap = plt.cm.viridis\n",
    "\n",
    "# Extract the temperatures that we are going\n",
    "# to plot.\n",
    "T_unmod = temperatures\n",
    "T_mod = library[0, :, 0, :, :]\n",
    "\n",
    "vmin, vmax = np.amin(T_unmod), np.amax(T_unmod)\n",
    "norm = plt.Normalize(vmin=vmin, vmax=vmax)\n",
    "\n",
    "\n",
    "# Plot each mu as a scatter point set, color-coded by mu\n",
    "for mui, mu in enumerate(mus):\n",
    "    # Compute the color.\n",
    "    color = cmap(norm(mu))\n",
    "\n",
    "    yerr = (T_mod[mui, :, 2] - T_mod[mui, :, 1], T_mod[mui, :, 1] - T_mod[mui, :, 0])\n",
    "\n",
    "    ax.errorbar(\n",
    "        T_unmod,\n",
    "        T_mod[mui, :, 1],\n",
    "        yerr=yerr,\n",
    "        mec=color,\n",
    "        mfc=\"w\",\n",
    "        ls=\"-\",\n",
    "        color=color,\n",
    "        capsize=2,\n",
    "    )\n",
    "\n",
    "# plot the 1-1 line.\n",
    "ax.plot([vmin, vmax], [vmin, vmax], color=\"k\")\n",
    "\n",
    "\n",
    "# Labels and colorbar\n",
    "cbar = plt.colorbar(plt.cm.ScalarMappable(norm=norm, cmap=cmap), ax=ax)\n",
    "cbar.set_label(\"Modification Center Energy (keV) [μ]\")\n",
    "\n",
    "ax.set_xlabel(\"Unmodified Temperature (keV)\")\n",
    "ax.set_ylabel(\"Recovered Modified Temperature (keV)\")\n",
    "ax.set_title(\"Temperature Bias from ARF Gaussian Modifications\")\n",
    "ax.grid(True)\n",
    "\n",
    "plt.show()"
   ]
  },
  {
   "cell_type": "markdown",
   "metadata": {},
   "source": [
    "## Residuals Plot\nIn addition to the raw recovered temperatures, it's often useful to visualize\nthe residuals between the unmodified and modified results:\n\n\\begin{align}\\Delta T = T_\\mathrm{mod} - T_\\mathrm{unmod}\\end{align}\n\nThis highlights both systematic offsets and parameter-dependent biases.\n\n\n"
   ]
  },
  {
   "cell_type": "code",
   "execution_count": null,
   "metadata": {
    "collapsed": false
   },
   "outputs": [],
   "source": [
    "fig, ax = plt.subplots(figsize=(8, 6))\n",
    "cmap = plt.cm.viridis\n",
    "\n",
    "# Compute residuals\n",
    "residuals = T_mod[:, :, 1] - T_unmod[None, :]\n",
    "\n",
    "# Setup color normalization\n",
    "vmin, vmax = np.amin(mus), np.amax(mus)\n",
    "norm = plt.Normalize(vmin=vmin, vmax=vmax)\n",
    "\n",
    "# Plot each μ as a scatter set with error bars\n",
    "for mui, mu in enumerate(mus):\n",
    "    color = cmap(norm(mu))\n",
    "\n",
    "    # Symmetric error propagated from T_mod uncertainties\n",
    "    yerr = 0.5 * (T_mod[mui, :, 2] - T_mod[mui, :, 0])\n",
    "\n",
    "    ax.errorbar(\n",
    "        T_unmod,\n",
    "        residuals[mui],\n",
    "        yerr=yerr,\n",
    "        ls=\"-\",\n",
    "        color=color,\n",
    "        capsize=2,\n",
    "        marker=\"o\",\n",
    "        mfc=\"w\",\n",
    "        mec=color,\n",
    "    )\n",
    "\n",
    "# Horizontal zero reference line\n",
    "ax.axhline(0, color=\"k\", linestyle=\"--\", linewidth=1)\n",
    "\n",
    "# Labels and colorbar\n",
    "cbar = plt.colorbar(plt.cm.ScalarMappable(norm=norm, cmap=cmap), ax=ax)\n",
    "cbar.set_label(\"Modification Center Energy (keV) [μ]\")\n",
    "\n",
    "ax.set_xlabel(\"Unmodified Temperature (keV)\")\n",
    "ax.set_ylabel(\"Temperature Bias ΔT (keV)\")\n",
    "ax.set_title(\"Residual Temperature Bias from ARF Gaussian Modifications\")\n",
    "ax.grid(True)\n",
    "\n",
    "plt.show()"
   ]
  }
 ],
 "metadata": {
  "kernelspec": {
   "display_name": "Python 3",
   "language": "python",
   "name": "python3"
  },
  "language_info": {
   "codemirror_mode": {
    "name": "ipython",
    "version": 3
   },
   "file_extension": ".py",
   "mimetype": "text/x-python",
   "name": "python",
   "nbconvert_exporter": "python",
   "pygments_lexer": "ipython3",
   "version": "3.10.3"
  }
 },
 "nbformat": 4,
 "nbformat_minor": 0
}
